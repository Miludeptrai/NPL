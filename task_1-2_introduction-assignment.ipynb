{
 "cells": [
  {
   "attachments": {},
   "cell_type": "markdown",
   "metadata": {},
   "source": [
    "# <h2 style= \"text-align:center\"> <b>Đồ án thực hành </b> </h2>\n",
    "# <h2 style='text-align:center;font-size:32px'><b>Đề tài</b>: Natural Language Processing with Disaster Tweets</h1>\n",
    "# <h2 style='text-align:center;font-size:32px'><b>Task 1-2</b>: Giới thiệu thành viên,phân công công việc - Giới thiệu đồ án</h1>"
   ]
  },
  {
   "attachments": {},
   "cell_type": "markdown",
   "metadata": {},
   "source": [
    "<hr/>\n",
    "\n",
    "## 1. Giới thiệu thành viên và phân công công việc"
   ]
  },
  {
   "cell_type": "markdown",
   "metadata": {},
   "source": [
    "### 1.1. Thông tin các thành viên và phân công công việc"
   ]
  },
  {
   "cell_type": "markdown",
   "metadata": {},
   "source": [
    "| STT       |   MSSV           | Tên                        | Email                              |         Phân công công việc       |Mức độ hoàn thành |   \n",
    "|:---------:|:----------------:|:--------------------------:|:----------------------------------:|:---------------------------------:|:----------------:|\n",
    "| 1         |  20120587        | Nguyễn Hoàng Thịnh         | 20120587@student.hcmus.edu.vn      | Làm task 1, 5, 6, 9               | 100%             |\n",
    "| 2         |  20120554        | Nguyễn Minh Quân           | 20120554@student.hcmus.edu.vn      | Làm task 5, 6, 9                  | 100%             |\n",
    "| 3         |  20120531        | Lương Văn Nam              | 20120531@student.hcmus.edu.vn      | Làm task 2, 3, 4, 9               | 100%             |\n",
    "| 4         |  20120534        | Nguyễn Minh Nghĩa          | 20120534@student.hcmus.edu.vn      | Làm task 2, 3, 4, 9               | 100%             | \n",
    "| 5         |  20120481        | Phan Xuân Hoài             | 20120481@student.hcmus.edu.vn      | Làm task 7, 8, 9                  | 100%             |\n",
    "| 6         |  20120565        | Nguyễn Tấn Sơn             | 20120565@student.hcmus.edu.vn      | Làm task 7, 8, 9                  | 100%             | "
   ]
  },
  {
   "cell_type": "markdown",
   "metadata": {},
   "source": [
    "### 1.2. Nội dung các task"
   ]
  },
  {
   "cell_type": "markdown",
   "metadata": {},
   "source": [
    "| STT task           |   Nội dung công việc                                                 |\n",
    "|:------------:      | :-------------------------------                                    |\n",
    "| 1                  |Giới thiệu thành viên và phân công công việc                          |\n",
    "| 2                  |Giới thiệu chung về đồ án                                             |\n",
    "| 3                  |Quá trình khám phá dữ liệu                                            |\n",
    "| 4                  |Quá trình tiền xử lý dữ liệu                                          |\n",
    "| 5                  |Quá trình tạo đặc trưng (feature engineering)                         |\n",
    "| 6                  |Xây dựng mô hình (Có thể dùng nhiều mô hình)                          |\n",
    "| 7                  |Thử nghiệm: Training, Testing, Kết quả đạt được, nhận xét và phân tích|\n",
    "| 8                  |Kết luận và hướng phát triển.                                         |\n",
    "| 9                  |Làm video ngắn (15-20p)                                               |"
   ]
  },
  {
   "cell_type": "markdown",
   "metadata": {},
   "source": [
    "<hr/>"
   ]
  },
  {
   "cell_type": "markdown",
   "metadata": {},
   "source": [
    "## 2. Giới thiệu chung về đồ án"
   ]
  },
  {
   "cell_type": "markdown",
   "metadata": {},
   "source": [
    "   Trong thời đại số ngày nay, Twitter đã trở thành một trong những kênh liên lạc quan trọng nhất trong tình huống khẩn cấp. Sự phổ biến của điện thoại thông minh đã mang lại khả năng cho mọi người chia sẻ thông tin về những tình huống khẩn cấp mà họ đang chứng kiến ngay trong thời gian thực. Điều này đã thúc đẩy nhiều tổ chức cứu trợ thảm họa quan tâm đến việc theo dõi Twitter để thu thập thông tin cần thiết và phản ứng kịp thời.\n",
    "\n",
    "   Thông qua việc theo dõi các từ khóa, hashtag và nguồn tin đáng tin cậy, các chuyên gia có thể xác định những tín hiệu đầu tiên về các sự cố như động đất, cơn bão, hỏa hoạn và các tình huống nguy hiểm khác.\n",
    "\n",
    "   Với sự gia tăng về lượng thông tin được chia sẻ trên Twitter, việc xử lý và phân loại thông tin trở nên ngày càng khó khăn. Để làm giảm nhẹ vấn đề thì trong đồ án này, nhóm sẽ phát triển một mô hình máy học dự đoán xem một tweet có liên quan đến thảm họa thực sự hay không với một tập dữ liệu gồm 10.000 tweet đã được phân loại thủ công để huấn luyện và đánh giá mô hình của mình.\n",
    "\n",
    "   Mục tiêu cuối cùng của đồ án là xây dựng một mô hình chính xác và tin cậy để phân loại tweet trong tình huống khẩn cấp và không phải tình huống khẩn cấp, thông qua đó, nhóm sẽ cũng cố được kiến thức, học hỏi và phát triển được nhiều kỹ năng trong lĩnh vực này."
   ]
  }
 ],
 "metadata": {
  "kernelspec": {
   "display_name": "Python 3 (ipykernel)",
   "language": "python",
   "name": "python3"
  },
  "language_info": {
   "codemirror_mode": {
    "name": "ipython",
    "version": 3
   },
   "file_extension": ".py",
   "mimetype": "text/x-python",
   "name": "python",
   "nbconvert_exporter": "python",
   "pygments_lexer": "ipython3",
   "version": "3.10.7"
  }
 },
 "nbformat": 4,
 "nbformat_minor": 2
}
