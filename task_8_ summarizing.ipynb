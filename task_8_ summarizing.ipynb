{
 "cells": [
  {
   "attachments": {},
   "cell_type": "markdown",
   "metadata": {},
   "source": [
    "# <h2 style= \"text-align:center\"> <b>Đồ án thực hành </b> </h2>\n",
    "# <h2 style='text-align:center;font-size:32px'><b>Đề tài</b>: Natural Language Processing with Disaster Tweets</h1>\n",
    "# <h2 style='text-align:center;font-size:32px'><b>Task 8</b>: Tổng kết </h1>"
   ]
  },
  {
   "attachments": {},
   "cell_type": "markdown",
   "metadata": {},
   "source": [
    "<hr/>"
   ]
  },
  {
   "attachments": {},
   "cell_type": "markdown",
   "metadata": {},
   "source": [
    "### **Task 3 - 4: Khám phá - Tiền xử lý dữ liệu**\n",
    "\n",
    "Đây là một quy trình rất quan trọng ảnh hưởng đến toàn bộ quá trình phân tích dữ liệu của chúng ta, \"Khám phá\" sẽ giúp chúng ta hiểu rõ hơn về dữ liệu và từ đó sẽ có các cách giải quyết thích hợp trong việc \"Tiền xử lý\". Nói nó quan trọng vì khi chúng ta không thực hiện nó mà cho thẳng vào mô hình để huấn luyện (Nói chính xác là task 5-6-7) thì kết quả thu được sẽ không quá thấp, thậm chí có thể nói là rất thấp.\n",
    "    \n",
    "=> Khám phá - Tiền xử lý dữ liệu là bước không thể thiếu trong quá trình phân tích dữ liệu\n"
   ]
  },
  {
   "attachments": {},
   "cell_type": "markdown",
   "metadata": {},
   "source": [
    "### **Task 5 - 6 - 7: Tạo đặc trưng - Mô hình hóa - Đánh giá**\n",
    "\n",
    "Sau khi qua nhận xét ở task 5-6-7, chúng ta cũng có thể dễ dàng thấy được sự chênh lệch về độ chính xác của từng mô hình (Ở đây là RoBERTa > BERT > mô hình truyền thống, từ đó ta có thể thấy mô hình RoBERTa là mô hình tốt cho việc xử lý ngôn ngữ tự nhiên), đặc biệt phải lựa chọn các tham số phù hợp với từng mô hình để có thể thu được kết quả tốt nhất. Ngoài ra thì còn phải dựa vào hiệu suất máy tính, tình huống để có thể lựa chọn mô hình một cách hiệu quả nhất. T\n",
    "    \n",
    "=> Khi thực hiện quá trình \"Tạo đặc trưng - Mô hình hóa - Đánh giá\" cần phải lưu ý tùy thuộc vào tình huống để chọn lựa mô hình cùng những tham số phù hợp khác nhau.  "
   ]
  },
  {
   "attachments": {},
   "cell_type": "markdown",
   "metadata": {},
   "source": [
    "### **Kết quả cuối cùng**\n",
    "![result](images/result2.png)"
   ]
  },
  {
   "attachments": {},
   "cell_type": "markdown",
   "metadata": {},
   "source": [
    "**Top**: \n",
    "\n",
    "$\\frac{81-33}{1047-33} = \\frac{47}{1014} = 0.046$\n",
    "\n",
    "![result](images/finalresult.png)\n",
    "=> Top 10%"
   ]
  }
 ],
 "metadata": {
  "language_info": {
   "name": "python"
  },
  "orig_nbformat": 4
 },
 "nbformat": 4,
 "nbformat_minor": 2
}
